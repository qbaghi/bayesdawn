{
 "cells": [
  {
   "cell_type": "markdown",
   "metadata": {},
   "source": [
    "# Interface gap-filling code to MBHB code"
   ]
  },
  {
   "cell_type": "code",
   "execution_count": 1,
   "metadata": {},
   "outputs": [],
   "source": [
    "import numpy as np\n",
    "import matplotlib.pyplot as plt\n",
    "import h5py\n",
    "import scipy.signal"
   ]
  },
  {
   "cell_type": "markdown",
   "metadata": {},
   "source": [
    "## 1. Load time-domain LDC data\n",
    "\n",
    "We are currently interested only in the impact of gaps on the Spritz MBHB-1 dataset. To achieve that we separate the effect of glitches from the effect of gaps in the Spritz data, and we do so by creating ad-hoc datasets with only gaps."
   ]
  },
  {
   "cell_type": "markdown",
   "metadata": {},
   "source": [
    "### 1.1. Download and access data\n",
    "\n",
    "Download LDC 2b *Spritz* MBHB-1 data from the LDC official website (https://lisa-ldc.lal.in2p3.fr/challenge2b) and save them to the `./data/` folder."
   ]
  },
  {
   "cell_type": "code",
   "execution_count": 2,
   "metadata": {},
   "outputs": [],
   "source": [
    "# import data\n",
    "fname = '../../data/LDC2_spritz_mbhb1_training_v2.h5'\n",
    "# open file with h5py\n",
    "fid = h5py.File(fname)"
   ]
  },
  {
   "cell_type": "code",
   "execution_count": 3,
   "metadata": {
    "scrolled": true,
    "tags": []
   },
   "outputs": [
    {
     "name": "stdout",
     "output_type": "stream",
     "text": [
      "clean\n",
      "    clean/tdi\n",
      "        coord: t\n",
      "        dt: 5.0\n",
      "        t0: 8899200.0\n",
      "        units: dimensionless\n",
      "gal\n",
      "    gal/tdi\n",
      "        coord: t\n",
      "        dt: 5.0\n",
      "        t0: 8899200.0\n",
      "        units: dimensionless\n",
      "header\n",
      "    header/date\n",
      "instru\n",
      "    instru/config\n",
      "        instru/config/LISA_AAFILTER_ATTENUATION\n",
      "        instru/config/LISA_AAFILTER_TRANSITION_BAND_0\n",
      "        instru/config/LISA_AAFILTER_TRANSITION_BAND_1\n",
      "        instru/config/LISA_ACC_NOISE_A_LEVEL\n",
      "        instru/config/LISA_ACC_NOISE_F_KNEE\n",
      "        instru/config/LISA_ACC_NOISE_USE_PZM\n",
      "        instru/config/LISA_ADC_RECURSION_ORDER\n",
      "        instru/config/LISA_BACKLINK_NOISE_A_LEVEL\n",
      "        instru/config/LISA_BACKLINK_NOISE_F_KNEE\n",
      "        instru/config/LISA_DEBUG_CLOCK_OFFSETS\n",
      "        instru/config/LISA_FREQUENCY_OFFSETS_12\n",
      "        instru/config/LISA_FREQUENCY_OFFSETS_13\n",
      "        instru/config/LISA_FREQUENCY_OFFSETS_21\n",
      "        instru/config/LISA_FREQUENCY_OFFSETS_23\n",
      "        instru/config/LISA_FREQUENCY_OFFSETS_31\n",
      "        instru/config/LISA_FREQUENCY_OFFSETS_32\n",
      "        instru/config/LISA_GLITCH_FILE\n",
      "        instru/config/LISA_GW_FILE_FS\n",
      "        instru/config/LISA_GW_FILE_UPSAMPLING\n",
      "        instru/config/LISA_GW_TYPE\n",
      "        instru/config/LISA_LASER_CENTRAL_FREQUENCY\n",
      "        instru/config/LISA_LOCKING_SCHEME\n",
      "        instru/config/LISA_MEASUREMENT_DOWNSAMPLING\n",
      "        instru/config/LISA_MEASUREMENT_FS\n",
      "        instru/config/LISA_ORBIT_TYPE_0\n",
      "        instru/config/LISA_ORBIT_TYPE_1\n",
      "        instru/config/LISA_PHYSICS_FS\n",
      "        instru/config/LISA_PRIMARY_LASER\n",
      "        instru/config/LISA_PUBLISH_BEATNOTE_COMPONENTS\n",
      "        instru/config/LISA_PUBLISH_TOTAL_BEATNOTE\n",
      "        instru/config/LISA_SIMULATE_DOPPLER\n",
      "        instru/config/OB_INDICES_0\n",
      "        instru/config/OB_INDICES_1\n",
      "        instru/config/OB_INDICES_2\n",
      "        instru/config/OB_INDICES_3\n",
      "        instru/config/OB_INDICES_4\n",
      "        instru/config/OB_INDICES_5\n",
      "        instru/config/SC_INDICES_0\n",
      "        instru/config/SC_INDICES_1\n",
      "        instru/config/SC_INDICES_2\n",
      "        instru/config/TDI_CLOCKCOR_MICHELSON\n",
      "        instru/config/TDI_CLOCKCOR_ORTHVAR\n",
      "        instru/config/TDI_CLOCKCOR_SAGNAC\n",
      "        instru/config/TDI_GENERATION\n",
      "        instru/config/TDI_INPUT_FORMAT\n",
      "        instru/config/TDI_MEASUREMENT_FS\n",
      "        instru/config/TDI_PUBLISH_INTERVAR\n",
      "        instru/config/TDI_PUBLISH_MICHELSON\n",
      "        instru/config/TDI_PUBLISH_ORTHVAR\n",
      "        instru/config/TDI_PUBLISH_SAGNAC\n",
      "        instru/config/TDI_USE_DOPPLER_CORRECTION\n",
      "        instru/config/TDI_USE_FREQUENCY_FLUCTUATIONS\n",
      "        instru/config/TDI_USE_UPDATED_CLOCKCOR\n",
      "        instru/config/TRIPLET_INDICES_0\n",
      "        instru/config/TRIPLET_INDICES_1\n",
      "        instru/config/TRIPLET_INDICES_2\n",
      "        instru/config/TRIPLET_INDICES_3\n",
      "        instru/config/TRIPLET_INDICES_4\n",
      "        instru/config/TRIPLET_INDICES_5\n",
      "noisefree\n",
      "    noisefree/tdi\n",
      "        coord: t\n",
      "        dt: 5.0\n",
      "        t0: 8899200.0\n",
      "        units: dimensionless\n",
      "obs\n",
      "    obs/config\n",
      "        obs/config/accnoise\n",
      "        obs/config/accnoise_seed_1_over_f2_12\n",
      "        obs/config/accnoise_seed_1_over_f2_13\n",
      "        obs/config/accnoise_seed_1_over_f2_21\n",
      "        obs/config/accnoise_seed_1_over_f2_23\n",
      "        obs/config/accnoise_seed_1_over_f2_31\n",
      "        obs/config/accnoise_seed_1_over_f2_32\n",
      "        obs/config/accnoise_seed_1_over_f_12\n",
      "        obs/config/accnoise_seed_1_over_f_13\n",
      "        obs/config/accnoise_seed_1_over_f_21\n",
      "        obs/config/accnoise_seed_1_over_f_23\n",
      "        obs/config/accnoise_seed_1_over_f_31\n",
      "        obs/config/accnoise_seed_1_over_f_32\n",
      "        obs/config/backlink_ref_seed1_over_f_12\n",
      "        obs/config/backlink_ref_seed1_over_f_13\n",
      "        obs/config/backlink_ref_seed1_over_f_21\n",
      "        obs/config/backlink_ref_seed1_over_f_23\n",
      "        obs/config/backlink_ref_seed1_over_f_31\n",
      "        obs/config/backlink_ref_seed1_over_f_32\n",
      "        obs/config/backlink_ref_seed_f_12\n",
      "        obs/config/backlink_ref_seed_f_13\n",
      "        obs/config/backlink_ref_seed_f_21\n",
      "        obs/config/backlink_ref_seed_f_23\n",
      "        obs/config/backlink_ref_seed_f_31\n",
      "        obs/config/backlink_ref_seed_f_32\n",
      "        obs/config/backlink_tm_seed1_over_f_12\n",
      "        obs/config/backlink_tm_seed1_over_f_13\n",
      "        obs/config/backlink_tm_seed1_over_f_21\n",
      "        obs/config/backlink_tm_seed1_over_f_23\n",
      "        obs/config/backlink_tm_seed1_over_f_31\n",
      "        obs/config/backlink_tm_seed1_over_f_32\n",
      "        obs/config/backlink_tm_seed_f_12\n",
      "        obs/config/backlink_tm_seed_f_13\n",
      "        obs/config/backlink_tm_seed_f_21\n",
      "        obs/config/backlink_tm_seed_f_23\n",
      "        obs/config/backlink_tm_seed_f_31\n",
      "        obs/config/backlink_tm_seed_f_32\n",
      "        obs/config/backlinknoise\n",
      "        obs/config/dirname\n",
      "        obs/config/dt\n",
      "            units: s\n",
      "        obs/config/dt_instrument\n",
      "            units: s\n",
      "        obs/config/dt_orbits\n",
      "            units: s\n",
      "        obs/config/dt_tdi\n",
      "            units: s\n",
      "        obs/config/galaxy\n",
      "        obs/config/gaps_delta_t_0\n",
      "            units: d\n",
      "        obs/config/gaps_delta_t_1\n",
      "            units: d\n",
      "        obs/config/gaps_duration\n",
      "            units: h\n",
      "        obs/config/initial_position\n",
      "            units: rad\n",
      "        obs/config/initial_rotation\n",
      "            units: rad\n",
      "        obs/config/interp_order\n",
      "        obs/config/kepler_order\n",
      "        obs/config/laser_seed_12\n",
      "        obs/config/laser_seed_13\n",
      "        obs/config/laser_seed_21\n",
      "        obs/config/laser_seed_23\n",
      "        obs/config/laser_seed_31\n",
      "        obs/config/laser_seed_32\n",
      "        obs/config/nbatch\n",
      "        obs/config/nominal_arm_length\n",
      "            units: m\n",
      "        obs/config/orbit_type\n",
      "        obs/config/physic_upsampling\n",
      "        obs/config/readout_isc_c_seed_12\n",
      "        obs/config/readout_isc_c_seed_13\n",
      "        obs/config/readout_isc_c_seed_21\n",
      "        obs/config/readout_isc_c_seed_23\n",
      "        obs/config/readout_isc_c_seed_31\n",
      "        obs/config/readout_isc_c_seed_32\n",
      "        obs/config/readout_isc_sb_seed_12\n",
      "        obs/config/readout_isc_sb_seed_13\n",
      "        obs/config/readout_isc_sb_seed_21\n",
      "        obs/config/readout_isc_sb_seed_23\n",
      "        obs/config/readout_isc_sb_seed_31\n",
      "        obs/config/readout_isc_sb_seed_32\n",
      "        obs/config/readout_ref_c_seed_12\n",
      "        obs/config/readout_ref_c_seed_13\n",
      "        obs/config/readout_ref_c_seed_21\n",
      "        obs/config/readout_ref_c_seed_23\n",
      "        obs/config/readout_ref_c_seed_31\n",
      "        obs/config/readout_ref_c_seed_32\n",
      "        obs/config/readout_ref_sb_seed_12\n",
      "        obs/config/readout_ref_sb_seed_13\n",
      "        obs/config/readout_ref_sb_seed_21\n",
      "        obs/config/readout_ref_sb_seed_23\n",
      "        obs/config/readout_ref_sb_seed_31\n",
      "        obs/config/readout_ref_sb_seed_32\n",
      "        obs/config/readout_tm_c_seed_12\n",
      "        obs/config/readout_tm_c_seed_13\n",
      "        obs/config/readout_tm_c_seed_21\n",
      "        obs/config/readout_tm_c_seed_23\n",
      "        obs/config/readout_tm_c_seed_31\n",
      "        obs/config/readout_tm_c_seed_32\n",
      "        obs/config/readoutnoise\n",
      "        obs/config/sim_kaiser_attenuation\n",
      "        obs/config/sim_kaiser_delay\n",
      "        obs/config/sim_kaiser_passband\n",
      "        obs/config/sim_kaiser_stopband\n",
      "        obs/config/t_max\n",
      "            units: yr\n",
      "        obs/config/t_min\n",
      "            units: s\n",
      "        obs/config/tdi_kaiser_attenuation\n",
      "        obs/config/tdi_kaiser_cutoff\n",
      "        obs/config/tdi_kaiser_delay\n",
      "        obs/config/tdi_kaiser_passband\n",
      "        obs/config/tdi_kaiser_stopband\n",
      "        obs/config/travel_time_order\n",
      "    obs/tdi\n",
      "        coord: t\n",
      "        dt: 5.0\n",
      "        t0: 8899200.0\n",
      "        units: dimensionless\n",
      "sky\n",
      "    sky/cat\n",
      "        CoalescenceTime: s\n",
      "        Distance: Mpc\n",
      "        EclipticLatitude: rad\n",
      "        EclipticLongitude: rad\n",
      "        Inclination: rad\n",
      "        InitialAzimuthalAngleL: rad\n",
      "        InitialPolarAngleL: rad\n",
      "        Mass1: Msun\n",
      "        Mass2: Msun\n",
      "        PhaseAtCoalescence: rad\n",
      "        PolarAngleOfSpin1: rad\n",
      "        PolarAngleOfSpin2: rad\n",
      "        Polarization: rad\n",
      "        Redshift: 1\n",
      "        Spin1: 1\n",
      "        Spin2: 1\n",
      "    sky/config\n",
      "        sky/config/approximant\n",
      "        sky/config/catalogs\n",
      "        sky/config/dt\n",
      "            units: s\n",
      "        sky/config/gaps_seed\n",
      "        sky/config/glitch_deltat_0\n",
      "        sky/config/glitch_deltat_1\n",
      "        sky/config/glitch_inj_point_0\n",
      "        sky/config/glitch_inj_point_1\n",
      "        sky/config/glitch_inj_point_2\n",
      "        sky/config/glitch_level_0\n",
      "        sky/config/glitch_level_1\n",
      "        sky/config/glitch_level_2\n",
      "        sky/config/glitch_t_inj_0\n",
      "            units: d\n",
      "        sky/config/glitch_t_inj_1\n",
      "            units: d\n",
      "        sky/config/glitch_t_inj_2\n",
      "            units: d\n",
      "        sky/config/glitch_type\n",
      "        sky/config/indices_0\n",
      "        sky/config/nsource\n",
      "        sky/config/source_type\n",
      "        sky/config/t_max\n",
      "            units: d\n",
      "        sky/config/t_min\n",
      "            units: d\n",
      "    sky/tdi\n",
      "        coord: t\n",
      "        dt: 5.0\n",
      "        t0: 8899200.0\n",
      "        units: dimensionless\n"
     ]
    }
   ],
   "source": [
    "# define function to print all attributes of hdf5 file recursively \n",
    "# from the LDC quicklook notebooks\n",
    "def print_attrs(name, obj):\n",
    "    shift = name.count('/') * '    '\n",
    "    print(shift + name)\n",
    "    for key, val in obj.attrs.items():\n",
    "        print(shift + '    ' + f\"{key}: {val}\")\n",
    "# print all dataset attributes (useful to see what's inside the HDF5 file)\n",
    "fid.visititems(print_attrs)"
   ]
  },
  {
   "cell_type": "markdown",
   "metadata": {},
   "source": [
    "### 1.2. Import the Spritz `tdi` datasets\n",
    "\n",
    "The Spritz HDF5 file is structured in various groups:\n",
    "- group `obs` containing `noise + signal + artifacts` (gaps + glitches)\n",
    "- group `clean` containing `noise + signal`\n",
    "- group `sky` containing `signal`\n",
    "- group `noisefree` containing `signal + artifacts` (gaps + glitches)\n",
    "\n",
    "Each of these groups hosts a dataset `tdi` that contains TDI combinations $X$, $Y$ and $Z$.\n",
    "\n",
    "The import function `load_tdi_timeseries` also builds the missing TDI dataset:\n",
    "- TDI dataset containing `noise`\n",
    "- TDI dataset containing `noise + signal + gaps`"
   ]
  },
  {
   "cell_type": "code",
   "execution_count": 4,
   "metadata": {},
   "outputs": [
    {
     "name": "stdout",
     "output_type": "stream",
     "text": [
      "<HDF5 dataset \"tdi\": shape (535680, 1), type \"|V32\">\n"
     ]
    }
   ],
   "source": [
    "# Print the tdi dataset object\n",
    "print(fid['obs/tdi'])"
   ]
  },
  {
   "cell_type": "code",
   "execution_count": 5,
   "metadata": {},
   "outputs": [
    {
     "name": "stdout",
     "output_type": "stream",
     "text": [
      "MLDC modules could not be loaded.\n"
     ]
    }
   ],
   "source": [
    "from bayesdawn.connect.fillgaps import load_tdi_timeseries"
   ]
  },
  {
   "cell_type": "markdown",
   "metadata": {},
   "source": [
    "Let's load all datasets as numpy-recarray objects in a single dictionary `tdi`:"
   ]
  },
  {
   "cell_type": "code",
   "execution_count": 6,
   "metadata": {
    "scrolled": true,
    "tags": []
   },
   "outputs": [],
   "source": [
    "tdi = load_tdi_timeseries(fname = fname)"
   ]
  },
  {
   "cell_type": "markdown",
   "metadata": {},
   "source": [
    "Let's take a look at the `'obs'` dataset:"
   ]
  },
  {
   "cell_type": "code",
   "execution_count": 7,
   "metadata": {},
   "outputs": [
    {
     "data": {
      "text/plain": [
       "array([-1.20843503e-21,  4.66545351e-22,  2.48226674e-21, ...,\n",
       "       -9.29828606e-21,  5.70021014e-21, -4.30521175e-21])"
      ]
     },
     "execution_count": 7,
     "metadata": {},
     "output_type": "execute_result"
    }
   ],
   "source": [
    "tdi['obs']['X']"
   ]
  },
  {
   "cell_type": "code",
   "execution_count": 8,
   "metadata": {},
   "outputs": [
    {
     "name": "stdout",
     "output_type": "stream",
     "text": [
      "[( 8899200., -1.20843503e-21,  1.03963281e-21, -3.83668942e-21)\n",
      " ( 8899205.,  4.66545351e-22, -1.35315602e-21,  7.09159015e-21)\n",
      " ( 8899210.,  2.48226674e-21, -1.04844445e-21,  1.09270023e-21) ...\n",
      " (11577585., -9.29828606e-21, -6.92159820e-21,  7.19464761e-21)\n",
      " (11577590.,  5.70021014e-21, -9.60595940e-22, -4.94114626e-21)\n",
      " (11577595., -4.30521175e-21,  8.29780973e-21,  2.00536395e-20)]\n",
      "[('t', '<f8'), ('X', '<f8'), ('Y', '<f8'), ('Z', '<f8')]\n"
     ]
    }
   ],
   "source": [
    "# dataset is a numpy.recarray object with the length of the data time-series and fields ['t','X','Y','Z']\n",
    "print(tdi['obs'])\n",
    "print(tdi['obs'].dtype)"
   ]
  },
  {
   "cell_type": "markdown",
   "metadata": {},
   "source": [
    "Set up dataset constant values:"
   ]
  },
  {
   "cell_type": "code",
   "execution_count": 9,
   "metadata": {},
   "outputs": [
    {
     "ename": "NameError",
     "evalue": "name 'xyzdata' is not defined",
     "output_type": "error",
     "traceback": [
      "\u001b[0;31m---------------------------------------------------------------------------\u001b[0m",
      "\u001b[0;31mNameError\u001b[0m                                 Traceback (most recent call last)",
      "\u001b[0;32m/var/folders/5g/hyf4_fxs537fx34c_80ycrq80000gp/T/ipykernel_15417/2941835855.py\u001b[0m in \u001b[0;36m<module>\u001b[0;34m\u001b[0m\n\u001b[1;32m      2\u001b[0m \u001b[0;34m\u001b[0m\u001b[0m\n\u001b[1;32m      3\u001b[0m \u001b[0mskip\u001b[0m \u001b[0;34m=\u001b[0m \u001b[0;36m0\u001b[0m \u001b[0;31m# number of samples to skip\u001b[0m\u001b[0;34m\u001b[0m\u001b[0;34m\u001b[0m\u001b[0m\n\u001b[0;32m----> 4\u001b[0;31m \u001b[0mndata\u001b[0m \u001b[0;34m=\u001b[0m \u001b[0mlen\u001b[0m\u001b[0;34m(\u001b[0m\u001b[0mxyzdata\u001b[0m\u001b[0;34m[\u001b[0m\u001b[0;34m'obs'\u001b[0m\u001b[0;34m]\u001b[0m\u001b[0;34m[\u001b[0m\u001b[0;34m:\u001b[0m\u001b[0;34m]\u001b[0m\u001b[0;34m)\u001b[0m \u001b[0;31m# length of dataset\u001b[0m\u001b[0;34m\u001b[0m\u001b[0;34m\u001b[0m\u001b[0m\n\u001b[0m\u001b[1;32m      5\u001b[0m \u001b[0mdt\u001b[0m \u001b[0;34m=\u001b[0m \u001b[0mxyzdata\u001b[0m\u001b[0;34m[\u001b[0m\u001b[0;34m'obs'\u001b[0m\u001b[0;34m]\u001b[0m\u001b[0;34m[\u001b[0m\u001b[0;34m't'\u001b[0m\u001b[0;34m]\u001b[0m\u001b[0;34m[\u001b[0m\u001b[0;36m1\u001b[0m\u001b[0;34m]\u001b[0m\u001b[0;34m-\u001b[0m\u001b[0mxyzdata\u001b[0m\u001b[0;34m[\u001b[0m\u001b[0;34m'obs'\u001b[0m\u001b[0;34m]\u001b[0m\u001b[0;34m[\u001b[0m\u001b[0;34m't'\u001b[0m\u001b[0;34m]\u001b[0m\u001b[0;34m[\u001b[0m\u001b[0;36m0\u001b[0m\u001b[0;34m]\u001b[0m \u001b[0;31m# time step\u001b[0m\u001b[0;34m\u001b[0m\u001b[0;34m\u001b[0m\u001b[0m\n\u001b[1;32m      6\u001b[0m \u001b[0mtobs\u001b[0m \u001b[0;34m=\u001b[0m \u001b[0mndata\u001b[0m \u001b[0;34m*\u001b[0m \u001b[0mdt\u001b[0m \u001b[0;31m# observation time\u001b[0m\u001b[0;34m\u001b[0m\u001b[0;34m\u001b[0m\u001b[0m\n",
      "\u001b[0;31mNameError\u001b[0m: name 'xyzdata' is not defined"
     ]
    }
   ],
   "source": [
    "# set up dataset constant values\n",
    "\n",
    "skip = 0 # number of samples to skip\n",
    "ndata = len(xyzdata['obs'][:]) # length of dataset\n",
    "dt = xyzdata['obs']['t'][1]-xyzdata['obs']['t'][0] # time step\n",
    "tobs = ndata * dt # observation time\n",
    "fs = 1.0/dt # sampling frequency\n",
    "fmin = np.round(1.0/(tobs),9)+2e-9 # minumum frequency\n",
    "\n",
    "\n",
    "print('skip','ndata','dt', 'fs', 'tobs\\t', 'fmin', sep='\\t',end='\\n'+60*'-'+'\\n')\n",
    "print(skip, ndata, dt, fs, tobs, fmin, sep='\\t')"
   ]
  },
  {
   "cell_type": "markdown",
   "metadata": {},
   "source": [
    "## 2. Build orthogonal TDI combinations\n",
    "\n",
    "We can proceed in two different ways to build orthogonal TDI combinations for all the datasets of our interest, i.e. `n+s`, `s`, `n`, `n+s+g` `n+g` data, according to our needs.\n",
    "\n",
    "1. We can create separate numpy rec-arrays, one for each separate dataset\n",
    "2. We can create a dictionary containing orthogonal TDI combinations for all imported datasets them\n",
    "\n",
    "\n",
    "Each of these can then be wired into the Spritz analysis."
   ]
  },
  {
   "cell_type": "code",
   "execution_count": null,
   "metadata": {},
   "outputs": [],
   "source": [
    "from bayesdawn.connect.fillgaps import build_orthogonal_tdi"
   ]
  },
  {
   "cell_type": "code",
   "execution_count": null,
   "metadata": {},
   "outputs": [],
   "source": [
    "# option 1 - separate numpy rec-arrays\n",
    "td_data = build_orthogonal_tdi(tdi['obs'])\n",
    "td_datans = build_orthogonal_tdi(tdi['clean'])\n",
    "td_datas  = build_orthogonal_tdi(tdi['sky'])\n",
    "td_datan  = build_orthogonal_tdi(tdi['noise'])\n",
    "td_datag  = build_orthogonal_tdi(tdi['clean_gapped'])\n",
    "td_datang = build_orthogonal_tdi(tdi['noise_gapped'])\n",
    "\n",
    "print(td_datans.dtype.names)\n",
    "\n",
    "# # option 2 - single dictionary containing all numpy recarrays\n",
    "# data = build_orthogonal_tdi(tdi)\n",
    "# print(data.keys())\n",
    "# print(data['obs'].dtype.names)"
   ]
  },
  {
   "cell_type": "code",
   "execution_count": null,
   "metadata": {},
   "outputs": [],
   "source": [
    "fig, ax = plt.subplots(1,1, dpi=120)\n",
    "ax.plot(td_datan['t'], td_datan['A'], label='A')\n",
    "ax.plot(td_datan['t'], td_datan['E'], label='E')\n",
    "ax.plot(td_datan['t'], td_datan['T'], label='T')\n",
    "ax.legend()\n",
    "ax.grid()\n",
    "ax.set_xlim([1.15e7,1.157e7])"
   ]
  },
  {
   "cell_type": "markdown",
   "metadata": {},
   "source": [
    "## 3. Define useful functions \n",
    "\n",
    "All these will end up in a separate file afterwards.\n",
    "\n",
    "- `fft_olap_psd`: function that evaluates PSD equivalent to `scipy.signal.welch` and also evaluates FFT at the same time\n",
    "- `generate_freq_data`: function that applies `fft_olap_psd` to each group inside data and groups results in a single `numpy.recarray` with the same structure of time-domain data.\n",
    "- `plot_compare_spectra_timeseries`: modified version of `lisabeta_fill_gaps.plot_compare_spectra` function that plots noise spectra and distribution of real/imag part of PSD/noise_model"
   ]
  },
  {
   "cell_type": "code",
   "execution_count": null,
   "metadata": {},
   "outputs": [],
   "source": [
    "from bayesdawn.connect.fillgaps import fft_olap_psd, generate_freq_data, plot_compare_spectra_timeseries"
   ]
  },
  {
   "cell_type": "code",
   "execution_count": null,
   "metadata": {},
   "outputs": [],
   "source": [
    "# Test psd and fft evaluation function\n",
    "f, psdA, fft_A, _ = fft_olap_psd(td_datan, chan = 'A', plot = True)"
   ]
  },
  {
   "cell_type": "code",
   "execution_count": null,
   "metadata": {},
   "outputs": [],
   "source": [
    "# generate data in the right format for the MBHB search code\n",
    "# split needs to be set to True\n",
    "\n",
    "# noise data\n",
    "datan, psddatan, scalefacn = generate_freq_data(td_datan, split=True, fmin = fmin, win='hanning')\n",
    "# noise + signal data\n",
    "datans, psddatans, scalefacns = generate_freq_data(td_datans, split=True, fmin = fmin, win='hanning')\n",
    "# signal data\n",
    "data, psddata, scalefac = generate_freq_data(td_datas, split=True, fmin = fmin, win='hanning')"
   ]
  },
  {
   "cell_type": "code",
   "execution_count": null,
   "metadata": {},
   "outputs": [],
   "source": [
    "for param, val in zip(fid['sky/cat'].attrs.keys(),fid['sky/cat'][()]):\n",
    "    print(param, ':', val)"
   ]
  },
  {
   "cell_type": "code",
   "execution_count": null,
   "metadata": {},
   "outputs": [],
   "source": [
    "# plot data\n",
    "fig, ax = plt.subplots(1,3,figsize=(15,4),dpi=120, sharey=True)\n",
    "ax[0].loglog(datan[:,0],np.sqrt(scalefacn*np.square(np.absolute(datan[:,1]+1j*datan[:,2]))), label='A fft norm')\n",
    "ax[1].loglog(datan[:,0],np.sqrt(scalefacn*np.square(np.absolute(datan[:,3]+1j*datan[:,4]))), label='E fft norm')\n",
    "ax[2].loglog(datan[:,0],np.sqrt(scalefacn*np.square(np.absolute(datan[:,5]+1j*datan[:,6]))), label='T fft norm')\n",
    "\n",
    "ax[0].loglog(psddatan[:,0], np.sqrt(psddatan[:,1]), ls='--', label='A PSD')\n",
    "ax[1].loglog(psddatan[:,0], np.sqrt(psddatan[:,2]), ls='--', label='E PSD')\n",
    "ax[2].loglog(psddatan[:,0], np.sqrt(psddatan[:,3]), ls='--', label='T PSD')\n",
    "\n",
    "for i in range(3):\n",
    "    ax[i].set_xlabel('Frequency (Hz)')\n",
    "    ax[i].set_ylabel(r'sqrt PSD $S_{TDI}$')\n",
    "    ax[i].legend()\n",
    "    ax[i].grid()                                                "
   ]
  },
  {
   "cell_type": "markdown",
   "metadata": {},
   "source": [
    "For comparing spectra, and compare data with noise models.\n",
    "\n",
    "Here we compare the three data realizations (noise, signal and noise + signal) and evaluate the gaussianity of the noise realization."
   ]
  },
  {
   "cell_type": "markdown",
   "metadata": {},
   "source": [
    "Here we compare the full noise + signal dataset with the only-noise dataset, applying `LISAnoise` as noise model for the TDI noise spectra.\n",
    "\n",
    "Note that `n + s` data deviate significantly from the Gaussian behavior for A and E, but not as much for T."
   ]
  },
  {
   "cell_type": "code",
   "execution_count": null,
   "metadata": {},
   "outputs": [],
   "source": [
    "from bayesdawn.connect.fillgaps import plot_compare_spectra_timeseries\n",
    "from bayesdawn.connect.lisabeta_fill_gaps import plot_compare_spectra"
   ]
  },
  {
   "cell_type": "code",
   "execution_count": null,
   "metadata": {},
   "outputs": [],
   "source": [
    "# plot comparison\n",
    "plot_compare_spectra_timeseries(data = [td_datans, td_datan] ,\n",
    "                                freq_bands=[5e-4, 5e-3],\n",
    "                                fmin = fmin, fmax = 1.5e-2,\n",
    "                               labels = ['signal+noise', ' noise'], \n",
    "                                save = False)"
   ]
  },
  {
   "cell_type": "markdown",
   "metadata": {},
   "source": [
    "## 4. Data imputation with short custom gaps \n",
    "\n",
    "\n",
    "### 4.1 Specify some short gaps (1000 samples) and generate gapped data\n",
    "Based on the `n` data, we are going to add some gaps to this data realization.\n",
    "\n",
    "We're going to start with 3 small gaps 20-sample 100-seconds long as in the original notebook to test the code."
   ]
  },
  {
   "cell_type": "code",
   "execution_count": null,
   "metadata": {},
   "outputs": [],
   "source": [
    "# import lisabeta_fill_gaps as fill_gaps\n",
    "from bayesdawn.connect.fillgaps import construct_gap_mask"
   ]
  },
  {
   "cell_type": "code",
   "execution_count": null,
   "metadata": {},
   "outputs": [],
   "source": [
    "# we already have time-domain data available, therefore we don't need to construct them starting from the noise spectrum\n",
    "# we'll just use the LDC time-domain data to inject gaps\n",
    "td_datans"
   ]
  },
  {
   "cell_type": "code",
   "execution_count": null,
   "metadata": {},
   "outputs": [],
   "source": [
    "SAVE = False\n",
    "n_gaps = 3\n",
    "gap_length = 1000"
   ]
  },
  {
   "cell_type": "code",
   "execution_count": null,
   "metadata": {},
   "outputs": [],
   "source": [
    "#construct gap mask\n",
    "mask = np.ones(ndata)\n",
    "ts = np.arange(ndata) * dt\n",
    "\n",
    "maskinfo = construct_gap_mask(ndata,\n",
    "                              n_gaps = n_gaps,\n",
    "                              gap_length = gap_length,\n",
    "                              verbose = True)\n",
    "mask = maskinfo['mask']"
   ]
  },
  {
   "cell_type": "code",
   "execution_count": null,
   "metadata": {},
   "outputs": [],
   "source": [
    "fig,ax = plt.subplots(1,1,dpi=120)\n",
    "# ax.plot(maskinfo['mask'])\n",
    "ax.plot(td_datan['t'],maskinfo['mask'])\n",
    "ax.grid()\n",
    "ax.set_xlabel('Time [s]')\n",
    "ax.set_ylabel('Random gap mask')"
   ]
  },
  {
   "cell_type": "code",
   "execution_count": null,
   "metadata": {},
   "outputs": [],
   "source": [
    "td_datans_masked = td_datans.copy()\n",
    "\n",
    "for names in td_datans.dtype.names[1:]:\n",
    "    td_datans_masked[names] = mask * td_datans[names]\n",
    "\n",
    "for i in range(len(maskinfo['starts'])):\n",
    "    print('gap', i,\n",
    "          ':\\n\\tsamples:', maskinfo['starts'][i],\n",
    "          '< i <', maskinfo['ends'][i],\n",
    "          '\\n\\tseconds:', ts[maskinfo['starts'][i]],\n",
    "          '< t <', ts[maskinfo['ends'][i]])"
   ]
  },
  {
   "cell_type": "markdown",
   "metadata": {},
   "source": [
    "### 4.2 Function for viewing/comparing gap data\n",
    "\n",
    "Given a set of gaps, together with various (eg gapped and ungapped) versions of the TD data, produces comparison plots for each channel around each gap."
   ]
  },
  {
   "cell_type": "code",
   "execution_count": null,
   "metadata": {},
   "outputs": [],
   "source": [
    "# from lisabeta_fill_gaps import view_gaps\n",
    "from bayesdawn.connect.fillgaps import view_gaps"
   ]
  },
  {
   "cell_type": "code",
   "execution_count": null,
   "metadata": {},
   "outputs": [],
   "source": [
    "# view_gaps(ts,\n",
    "#           [y, y_masked, yy, yyt],\n",
    "#           gapstarts[:3], gapends[:3],\n",
    "#           labels=['data', 'gapped', 'generated by func', 'transformed and reconstructed'])\n",
    "\n",
    "view_gaps(ts = td_datans['t'],\n",
    "          ys = [[td_datans[names] for names in td_datans.dtype.names[1:]]],\n",
    "          yg = [td_datans_masked[names] for names in td_datans_masked.dtype.names[1:]],\n",
    "          maskinfo = maskinfo, channels = ['A', 'E'], nwing = 5000,\n",
    "          labels=['original'])"
   ]
  },
  {
   "cell_type": "markdown",
   "metadata": {},
   "source": [
    "### 4.3 Define a bayesdawn PSD model class built on the ldc PSD model"
   ]
  },
  {
   "cell_type": "code",
   "execution_count": null,
   "metadata": {},
   "outputs": [],
   "source": [
    "from bayesdawn.connect.fillgaps import LDCModelPSD\n",
    "from bayesdawn import datamodel, psdmodel\n",
    "import time"
   ]
  },
  {
   "cell_type": "markdown",
   "metadata": {},
   "source": [
    "### 4.4 Apply imputation to noise data and compare spectra"
   ]
  },
  {
   "cell_type": "markdown",
   "metadata": {},
   "source": [
    "#### Define some functions for concretely applying the bayesdawn gap impuation on  a set of FD data channels\n",
    "- `create_imputation`: Make a set of bayesdawn imputation models from the LDC PSD-0 unequal arms noise model with a specified gap mask\n",
    "- `update_imputation`: Perform the imputation on a set of FD residual data returning a revised version of the residual data, again in FD with re-drawn gap data."
   ]
  },
  {
   "cell_type": "code",
   "execution_count": null,
   "metadata": {},
   "outputs": [],
   "source": [
    "from bayesdawn.connect.fillgaps import create_imputation, update_imputation"
   ]
  },
  {
   "cell_type": "code",
   "execution_count": null,
   "metadata": {
    "tags": []
   },
   "outputs": [],
   "source": [
    "# data imputation with iteration loop\n",
    "# create empty arrays for the imputation\n",
    "imp_cls = []\n",
    "psd_cls = []\n",
    "y_res = []\n",
    "# create reconstructed data array with empty A, E, T fields\n",
    "td_data_rec = np.rec.fromarrays([td_datans_masked['t']]+3*[np.zeros(len(td_datans_masked['t']))], \n",
    "                               names = td_datans_masked.dtype.names)\n",
    "# set up flags and variables\n",
    "names=['A', 'E']\n",
    "mask = maskinfo['mask']\n",
    "n_iter = 10\n",
    "fit_type = 'log_spline'\n",
    "fit_dof = 15\n",
    "k = 20\n",
    "\n",
    "fmin = 1 / t_obs * k\n",
    "\n",
    "print(' `fmin` value is {:.2e}'.format(fmin))\n",
    "\n",
    "# perform data imputation\n",
    "\n",
    "## initialize imputation\n",
    "\n",
    "for tdi in names:\n",
    "    t1 = time.time()\n",
    "    psd_cls, imp_cls, y_res = create_imputation(td_datans_masked, tdi, mask, noise_model = 'spritz')\n",
    "    td_data_rec[tdi] = y_res\n",
    "    \n",
    "    for i in range(n_iter):\n",
    "        psdmod, imp_cls, y_res = update_imputation(data_rec = td_data_rec, imp_cls = imp_cls, channel = tdi,\n",
    "                                                  fit_type = fit_type, fit_dof=fit_dof, fmin=fmin)\n",
    "        td_data_rec[tdi] = y_res\n",
    "    t2 = time.time()\n",
    "    print(\"Imputation for combination \" + tdi + \" took \" + str(t2-t1))\n",
    "    ax.legend(loc='best')\n",
    "    ax.grid()"
   ]
  },
  {
   "cell_type": "code",
   "execution_count": null,
   "metadata": {},
   "outputs": [],
   "source": [
    "view_gaps(ts = td_datans['t'],\n",
    "          ys = [[td_datans[names] for names in td_datans.dtype.names[1:]], \n",
    "                [td_data_rec[names] for names in td_datans.dtype.names[1:]]],\n",
    "          yg = [td_datans_masked[names] for names in td_datans.dtype.names[1:]],\n",
    "          maskinfo = maskinfo, channels = ['A', 'E'], nwing = 1000,\n",
    "          labels=['original data', 'reconstructed data', 'gapped data'],\n",
    "          save = SAVE)"
   ]
  },
  {
   "cell_type": "code",
   "execution_count": null,
   "metadata": {},
   "outputs": [],
   "source": [
    "# generate fft and psd from reconstructed data\n",
    "fdatan_rec, psddata_rec, _ = generate_freq_data(td_data_rec, split = True,fmin = fmin, win='hanning') "
   ]
  },
  {
   "cell_type": "code",
   "execution_count": null,
   "metadata": {},
   "outputs": [],
   "source": [
    "# plot comparison\n",
    "plot_compare_spectra_timeseries(data = [td_datans, td_data_rec],#,data_masked], \n",
    "                                  freq_bands=[5e-4, 5e-3],\n",
    "                                fmin = fmin, fmax = 1.5e-2,\n",
    "                               labels = ['Downavg original signal+noise', 'Reconstructed signal+noise'],#, 'gapped data'], \n",
    "                                save = SAVE)"
   ]
  },
  {
   "cell_type": "markdown",
   "metadata": {},
   "source": [
    "## 5. Data imputation with Spritz data \n",
    "Do this again with the Spritz noise data\n",
    "### 5.1 Get Spritz gaps data."
   ]
  },
  {
   "cell_type": "code",
   "execution_count": null,
   "metadata": {},
   "outputs": [],
   "source": [
    "# import lisabeta_fill_gaps as fill_gaps\n",
    "from bayesdawn.connect.fillgaps import get_ldc_gap_mask"
   ]
  },
  {
   "cell_type": "code",
   "execution_count": null,
   "metadata": {},
   "outputs": [],
   "source": [
    "td_datans"
   ]
  },
  {
   "cell_type": "code",
   "execution_count": null,
   "metadata": {},
   "outputs": [],
   "source": [
    "mask = np.ones(td_datag.shape[0])\n",
    "ndata = td_datag.shape[0]\n",
    "\n",
    "spritzgaps = get_ldc_gap_mask(td_datag, mode='index')\n",
    "gapstarts,gapends= np.vsplit(spritzgaps, 2)\n",
    "\n",
    "for k in range(gapstarts.shape[1]):\n",
    "    mask[gapstarts.reshape((2))[k]:gapends.reshape((2))[k]]=0\n",
    "\n",
    "spritzmask = {'mask': mask,\n",
    "              'starts': gapstarts.reshape((2)),\n",
    "              'ends': gapends.reshape((2))}\n",
    "\n",
    "figname = 'figures/nodownavg_spritzgaps'"
   ]
  },
  {
   "cell_type": "code",
   "execution_count": null,
   "metadata": {},
   "outputs": [],
   "source": [
    "fig,ax = plt.subplots(1,1,dpi=120)\n",
    "# ax.plot(maskinfo['mask'])\n",
    "ax.plot(td_datag['t'],spritzmask['mask'])\n",
    "ax.grid()\n",
    "ax.set_xlabel('Time [s]')\n",
    "ax.set_ylabel('Spritz gap mask')"
   ]
  },
  {
   "cell_type": "code",
   "execution_count": null,
   "metadata": {},
   "outputs": [],
   "source": [
    "view_gaps(ts = td_datan['t'],\n",
    "          ys = [[td_datans[names] for names in td_datans.dtype.names[1:]]],\n",
    "          yg = [td_datag[names] for names in td_datag.dtype.names[1:]],\n",
    "          maskinfo = spritzmask, channels = ['A', 'E'],\n",
    "          labels=['original data'], nwing = 5000, histogram=True)"
   ]
  },
  {
   "cell_type": "markdown",
   "metadata": {},
   "source": [
    "### 5.3 Apply imputation to noise data and compare spectra"
   ]
  },
  {
   "cell_type": "code",
   "execution_count": null,
   "metadata": {},
   "outputs": [],
   "source": [
    "from bayesdawn.connect.fillgaps import create_imputation, update_imputation"
   ]
  },
  {
   "cell_type": "code",
   "execution_count": null,
   "metadata": {
    "tags": []
   },
   "outputs": [],
   "source": [
    "# data imputation with iteration loop\n",
    "# create empty arrays for the imputation\n",
    "imp_cls = []\n",
    "psd_cls = []\n",
    "y_res = []\n",
    "# create reconstructed data array with empty A, E, T fields\n",
    "td_data_rec = np.rec.fromarrays([td_datag['t']]+3*[np.zeros(len(td_datag['t']))], \n",
    "                               names = td_datag.dtype.names)\n",
    "# set up flags and variables\n",
    "names=['A', 'E']\n",
    "mask = spritzmask['mask']\n",
    "n_iter = 10\n",
    "fit_type = 'log_spline'\n",
    "fit_dof = 15\n",
    "k = 20\n",
    "\n",
    "fmin = 1 / t_obs * k\n",
    "\n",
    "print(' `fmin` value is {:.2e}'.format(fmin))\n",
    "\n",
    "# perform data imputation\n",
    "\n",
    "## initialize imputation\n",
    "\n",
    "for tdi in names:\n",
    "    t1 = time.time()\n",
    "    psd_cls, imp_cls, y_res = create_imputation(td_datag, tdi, mask, noise_model = 'spritz')\n",
    "    td_data_rec[tdi] = y_res\n",
    "    \n",
    "    for i in range(n_iter):\n",
    "        psdmod, imp_cls, y_res = update_imputation(data_rec = td_data_rec, imp_cls = imp_cls, channel = tdi,\n",
    "                                                  fit_type = fit_type, fit_dof=fit_dof, fmin=fmin)\n",
    "        td_data_rec[tdi] = y_res\n",
    "    t2 = time.time()\n",
    "    print(\"Imputation for combination \" + tdi + \" took \" + str(t2-t1))\n",
    "    ax.legend(loc='best')\n",
    "    ax.grid()"
   ]
  },
  {
   "cell_type": "code",
   "execution_count": null,
   "metadata": {},
   "outputs": [],
   "source": [
    "view_gaps(ts = td_datag['t'],\n",
    "          ys = [[td_datans[names] for names in td_datans.dtype.names[1:]], \n",
    "                [td_data_rec[names] for names in td_data_rec.dtype.names[1:]]],\n",
    "          yg = [td_datag[names] for names in td_datag.dtype.names[1:]],\n",
    "          maskinfo = spritzmask, channels = ['A', 'E'], nwing = 5000,\n",
    "          labels=['original', 'reconstructed', 'gapped data'],\n",
    "          save = SAVE)"
   ]
  },
  {
   "cell_type": "code",
   "execution_count": null,
   "metadata": {},
   "outputs": [],
   "source": [
    "# generate fft and psd from reconstructed data\n",
    "fdatan_rec, psddata_rec, _ = generate_freq_data(td_data_rec, split = True, fmin = fmin, win='hanning')"
   ]
  },
  {
   "cell_type": "code",
   "execution_count": null,
   "metadata": {},
   "outputs": [],
   "source": [
    "# plot comparison\n",
    "plot_compare_spectra_timeseries(data = [td_datans, td_data_rec],#,data_masked], \n",
    "                                  freq_bands=[5e-4, 5e-3],\n",
    "                                fmin = fmin, fmax = 1.5e-2,\n",
    "                               labels = ['Downavg original signal+noise', 'Reconstructed signal+noise'],#, 'gapped data'], \n",
    "                                save = SAVE)"
   ]
  },
  {
   "cell_type": "code",
   "execution_count": null,
   "metadata": {},
   "outputs": [],
   "source": []
  },
  {
   "cell_type": "code",
   "execution_count": null,
   "metadata": {},
   "outputs": [],
   "source": []
  },
  {
   "cell_type": "code",
   "execution_count": null,
   "metadata": {},
   "outputs": [],
   "source": []
  }
 ],
 "metadata": {
  "kernelspec": {
   "display_name": "Python 3 (ipykernel)",
   "language": "python",
   "name": "python3"
  },
  "language_info": {
   "codemirror_mode": {
    "name": "ipython",
    "version": 3
   },
   "file_extension": ".py",
   "mimetype": "text/x-python",
   "name": "python",
   "nbconvert_exporter": "python",
   "pygments_lexer": "ipython3",
   "version": "3.10.5"
  }
 },
 "nbformat": 4,
 "nbformat_minor": 4
}
